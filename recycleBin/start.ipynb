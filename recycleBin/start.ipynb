{
 "cells": [
  {
   "cell_type": "code",
   "execution_count": 2,
   "metadata": {},
   "outputs": [
    {
     "name": "stdout",
     "output_type": "stream",
     "text": [
      "Circuit:\n",
      "0: ───H───@───\n",
      "          │\n",
      "1: ───────X───\n",
      "\n",
      "Cirq results:\n",
      "measurements: (no measurements)\n",
      "\n",
      "qubits: (cirq.LineQubit(0), cirq.LineQubit(1))\n",
      "output vector: 0.707|00⟩ + 0.707|11⟩\n",
      "\n",
      "phase:\n",
      "output vector: |⟩\n",
      "\n",
      "qsim results:\n",
      "measurements: (no measurements)\n",
      "\n",
      "qubits: (cirq.LineQubit(0), cirq.LineQubit(1))\n",
      "output vector: 0.707|00⟩ + 0.707|11⟩\n"
     ]
    }
   ],
   "source": [
    "import cirq\n",
    "import qsimcirq\n",
    "# Define qubits and a short circuit.\n",
    "q0, q1 = cirq.LineQubit.range(2)\n",
    "circuit = cirq.Circuit(cirq.H(q0), cirq.CX(q0, q1))\n",
    "print(\"Circuit:\")\n",
    "print(circuit)\n",
    "print()\n",
    "\n",
    "# Simulate the circuit with Cirq and return the full state vector.\n",
    "print('Cirq results:')\n",
    "cirq_simulator = cirq.Simulator()\n",
    "cirq_results = cirq_simulator.simulate(circuit)\n",
    "print(cirq_results)\n",
    "print()\n",
    "\n",
    "# Simulate the circuit with qsim and return the full state vector.\n",
    "print('qsim results:')\n",
    "qsim_simulator = qsimcirq.QSimSimulator()\n",
    "qsim_results = qsim_simulator.simulate(circuit)\n",
    "print(qsim_results)"
   ]
  },
  {
   "cell_type": "code",
   "execution_count": 3,
   "metadata": {},
   "outputs": [
    {
     "name": "stdout",
     "output_type": "stream",
     "text": [
      "[[1 1]\n",
      " [0 0]\n",
      " [0 0]\n",
      " [0 0]\n",
      " [0 0]\n",
      " [1 1]\n",
      " [1 1]\n",
      " [1 1]\n",
      " [0 0]\n",
      " [1 1]]\n"
     ]
    }
   ],
   "source": [
    "samples = cirq.sample_state_vector(\n",
    "    qsim_results.state_vector(), indices=[0, 1], repetitions=10)\n",
    "print(samples)"
   ]
  },
  {
   "cell_type": "code",
   "execution_count": 4,
   "metadata": {},
   "outputs": [
    {
     "name": "stdout",
     "output_type": "stream",
     "text": [
      "Circuit:\n",
      "0: ───H───@───M('qubit_0')───\n",
      "          │\n",
      "1: ───X───X───M('qubit_1')───\n",
      "\n",
      "Cirq results:\n",
      "qubit_0=10100\n",
      "qubit_1=01011\n",
      "\n",
      "qsim results:\n",
      "qubit_0=00011\n",
      "qubit_1=11100\n"
     ]
    }
   ],
   "source": [
    "# Define a circuit with measurements.\n",
    "q0, q1 = cirq.LineQubit.range(2)\n",
    "circuit = cirq.Circuit(\n",
    "    cirq.H(q0), cirq.X(q1), cirq.CX(q0, q1),\n",
    "    cirq.measure(q0, key='qubit_0'),\n",
    "    cirq.measure(q1, key='qubit_1'),\n",
    ")\n",
    "print(\"Circuit:\")\n",
    "print(circuit)\n",
    "print()\n",
    "\n",
    "# Simulate the circuit with Cirq and return just the measurement values.\n",
    "print('Cirq results:')\n",
    "cirq_simulator = cirq.Simulator()\n",
    "cirq_results = cirq_simulator.run(circuit, repetitions=5)\n",
    "print(cirq_results)\n",
    "print()\n",
    "\n",
    "# Simulate the circuit with qsim and return just the measurement values.\n",
    "print('qsim results:')\n",
    "qsim_simulator = qsimcirq.QSimSimulator()\n",
    "qsim_results = qsim_simulator.run(circuit, repetitions=5)\n",
    "print(qsim_results)"
   ]
  },
  {
   "cell_type": "code",
   "execution_count": 5,
   "metadata": {},
   "outputs": [
    {
     "name": "stdout",
     "output_type": "stream",
     "text": [
      "Circuit:\n",
      "0: ───X^0.5───M('m0')───X^0.5───M('m1')───X^0.5───M('m2')───\n",
      "\n",
      "qsim results:\n",
      "m0=10010\n",
      "m1=00000\n",
      "m2=01111\n"
     ]
    }
   ],
   "source": [
    "# Define a circuit with intermediate measurements.\n",
    "q0 = cirq.LineQubit(0)\n",
    "circuit = cirq.Circuit(\n",
    "    cirq.X(q0)**0.5, cirq.measure(q0, key='m0'),\n",
    "    cirq.X(q0)**0.5, cirq.measure(q0, key='m1'),\n",
    "    cirq.X(q0)**0.5, cirq.measure(q0, key='m2'),\n",
    ")\n",
    "print(\"Circuit:\")\n",
    "print(circuit)\n",
    "print()\n",
    "\n",
    "# Simulate the circuit with qsim and return just the measurement values.\n",
    "print('qsim results:')\n",
    "qsim_simulator = qsimcirq.QSimSimulator()\n",
    "qsim_results = qsim_simulator.run(circuit, repetitions=5)\n",
    "print(qsim_results)"
   ]
  },
  {
   "cell_type": "code",
   "execution_count": 6,
   "metadata": {},
   "outputs": [
    {
     "name": "stdout",
     "output_type": "stream",
     "text": [
      "Circuit:\n",
      "0: ───H───@───\n",
      "          │\n",
      "1: ───────X───\n",
      "\n",
      "Cirq results:\n",
      "[0.70710677+0.j 0.        +0.j]\n",
      "\n",
      "qsim results:\n",
      "[(0.7071067690849304+0j), 0j]\n"
     ]
    }
   ],
   "source": [
    "# Define a simple circuit.\n",
    "q0, q1 = cirq.LineQubit.range(2)\n",
    "circuit = cirq.Circuit(cirq.H(q0), cirq.CX(q0, q1))\n",
    "print(\"Circuit:\")\n",
    "print(circuit)\n",
    "print()\n",
    "\n",
    "# Simulate the circuit with qsim and return the amplitudes for |00) and |01).\n",
    "print('Cirq results:')\n",
    "cirq_simulator = cirq.Simulator()\n",
    "cirq_results = cirq_simulator.compute_amplitudes(\n",
    "    circuit, bitstrings=[0b00, 0b01])\n",
    "print(cirq_results)\n",
    "print()\n",
    "\n",
    "# Simulate the circuit with qsim and return the amplitudes for |00) and |01).\n",
    "print('qsim results:')\n",
    "qsim_simulator = qsimcirq.QSimSimulator()\n",
    "qsim_results = qsim_simulator.compute_amplitudes(\n",
    "    circuit, bitstrings=[0b00, 0b01])\n",
    "print(qsim_results)"
   ]
  },
  {
   "cell_type": "code",
   "execution_count": 14,
   "metadata": {},
   "outputs": [
    {
     "name": "stdout",
     "output_type": "stream",
     "text": [
      "Cirq runtime: 14.127177238464355 seconds.\n",
      "\n",
      "qsim runtime: 0.19808077812194824 seconds.\n"
     ]
    }
   ],
   "source": [
    "import time\n",
    "\n",
    "# Get a rectangular grid of qubits.\n",
    "qubits = cirq.GridQubit.rect(4, 5)\n",
    "\n",
    "# Generates a random circuit on the provided qubits.\n",
    "circuit = cirq.experiments.random_rotations_between_grid_interaction_layers_circuit(\n",
    "    qubits=qubits, depth=66)\n",
    "\n",
    "# Simulate the circuit with Cirq and print the runtime.\n",
    "cirq_simulator = cirq.Simulator()\n",
    "cirq_start = time.time()\n",
    "cirq_results = cirq_simulator.simulate(circuit)\n",
    "cirq_elapsed = time.time() - cirq_start\n",
    "print(f'Cirq runtime: {cirq_elapsed} seconds.')\n",
    "print()\n",
    "\n",
    "# Simulate the circuit with qsim and print the runtime.\n",
    "qsim_simulator = qsimcirq.QSimSimulator()\n",
    "qsim_start = time.time()\n",
    "qsim_results = qsim_simulator.simulate(circuit)\n",
    "qsim_elapsed = time.time() - qsim_start\n",
    "print(f'qsim runtime: {qsim_elapsed} seconds.')"
   ]
  },
  {
   "cell_type": "code",
   "execution_count": 16,
   "metadata": {},
   "outputs": [
    {
     "name": "stdout",
     "output_type": "stream",
     "text": [
      "qsim runtime: 0.10407352447509766 seconds.\n"
     ]
    }
   ],
   "source": [
    "# Use eight threads to parallelize simulation.\n",
    "options = {'t': 16}\n",
    "\n",
    "qsim_simulator = qsimcirq.QSimSimulator(options)\n",
    "qsim_start = time.time()\n",
    "qsim_results = qsim_simulator.simulate(circuit)\n",
    "qsim_elapsed = time.time() - qsim_start\n",
    "print(f'qsim runtime: {qsim_elapsed} seconds.')"
   ]
  },
  {
   "cell_type": "code",
   "execution_count": 17,
   "metadata": {},
   "outputs": [
    {
     "name": "stdout",
     "output_type": "stream",
     "text": [
      "qsim runtime: 0.19913005828857422 seconds.\n"
     ]
    }
   ],
   "source": [
    "# Increase maximum fused gate size to three qubits.\n",
    "options = {'f': 3}\n",
    "\n",
    "qsim_simulator = qsimcirq.QSimSimulator(options)\n",
    "qsim_start = time.time()\n",
    "qsim_results = qsim_simulator.simulate(circuit)\n",
    "qsim_elapsed = time.time() - qsim_start\n",
    "print(f'qsim runtime: {qsim_elapsed} seconds.')"
   ]
  },
  {
   "cell_type": "code",
   "execution_count": 18,
   "metadata": {},
   "outputs": [
    {
     "name": "stdout",
     "output_type": "stream",
     "text": [
      "Circuit:\n",
      "(0, 0): ───H───@───────\n",
      "               │\n",
      "(0, 1): ───────X───X───\n"
     ]
    }
   ],
   "source": [
    "# Pick a pair of qubits.\n",
    "q0 = cirq.GridQubit(0, 0)\n",
    "q1 = cirq.GridQubit(0, 1)\n",
    "\n",
    "# Create a circuit that entangles the pair.\n",
    "circuit = cirq.Circuit(\n",
    "    cirq.H(q0), cirq.CX(q0, q1), cirq.X(q1)\n",
    ")\n",
    "print(\"Circuit:\")\n",
    "print(circuit)"
   ]
  },
  {
   "cell_type": "code",
   "execution_count": 19,
   "metadata": {},
   "outputs": [
    {
     "name": "stdout",
     "output_type": "stream",
     "text": [
      "[0j, (0.7071067690849304+0j), 0j, 0j]\n"
     ]
    }
   ],
   "source": [
    "options = {}\n",
    "\n",
    "# 'k' indicates the qubits on one side of the cut.\n",
    "# We'll use qubit 0 for this.\n",
    "options['k'] = [0]\n",
    "\n",
    "# 'p' and 'r' control when values are assigned to cut indices.\n",
    "# There are some intricacies in choosing values for these options,\n",
    "# but for now we'll set p=1 and r=0.\n",
    "# This allows us to pre-assign the value of the CX indices\n",
    "# and distribute its execution to multiple jobs.\n",
    "options['p'] = 1\n",
    "options['r'] = 0\n",
    "\n",
    "# 'w' indicates the value pre-assigned to the cut.\n",
    "# This should change for each execution.\n",
    "options['w'] = 0\n",
    "\n",
    "# Create the qsimh simulator with those options.\n",
    "qsimh_simulator = qsimcirq.QSimhSimulator(options)\n",
    "results_0 = qsimh_simulator.compute_amplitudes(\n",
    "    circuit, bitstrings=[0b00, 0b01, 0b10, 0b11])\n",
    "print(results_0)"
   ]
  },
  {
   "cell_type": "code",
   "execution_count": 20,
   "metadata": {},
   "outputs": [
    {
     "name": "stdout",
     "output_type": "stream",
     "text": [
      "[0j, 0j, (0.7071067690849304+0j), 0j]\n"
     ]
    }
   ],
   "source": [
    "options['w'] = 1\n",
    "\n",
    "qsimh_simulator = qsimcirq.QSimhSimulator(options)\n",
    "results_1 = qsimh_simulator.compute_amplitudes(\n",
    "    circuit, bitstrings=[0b00, 0b01, 0b10, 0b11])\n",
    "print(results_1)"
   ]
  },
  {
   "cell_type": "code",
   "execution_count": 21,
   "metadata": {},
   "outputs": [
    {
     "name": "stdout",
     "output_type": "stream",
     "text": [
      "qsimh results:\n",
      "[0j, (0.7071067690849304+0j), (0.7071067690849304+0j), 0j]\n",
      "qsim results:\n",
      "[0j, (0.7071067690849304+0j), (0.7071067690849304+0j), 0j]\n"
     ]
    }
   ],
   "source": [
    "results = [r0 + r1 for r0, r1 in zip(results_0, results_1)]\n",
    "print(\"qsimh results:\")\n",
    "print(results)\n",
    "\n",
    "qsim_simulator = qsimcirq.QSimSimulator()\n",
    "qsim_simulator.compute_amplitudes(circuit, bitstrings=[0b00, 0b01, 0b10, 0b11])\n",
    "print(\"qsim results:\")\n",
    "print(results)"
   ]
  },
  {
   "cell_type": "code",
   "execution_count": 59,
   "metadata": {},
   "outputs": [],
   "source": [
    "q0, q1 = cirq.LineQubit.range(2)\n",
    "\n",
    "circuit = cirq.Circuit(\n",
    "    # Perform a Hadamard on both qubits\n",
    "    cirq.H(q0), cirq.H(q1),\n",
    "    # Apply amplitude damping to q0 with probability 0.1\n",
    "    cirq.amplitude_damp(gamma=0.1).on(q0),\n",
    "    # Apply phase damping to q1 with probability 0.1\n",
    "    cirq.phase_damp(gamma=0.1).on(q1),\n",
    ")"
   ]
  },
  {
   "cell_type": "code",
   "execution_count": 60,
   "metadata": {},
   "outputs": [
    {
     "name": "stdout",
     "output_type": "stream",
     "text": [
      "[0.52631575+0.j 0.499307  +0.j 0.49930704+0.j 0.47368425+0.j]\n",
      "[(0.52631575+0j), (0.499307+0j), (0.49930704+0j), (0.47368425+0j)]\n"
     ]
    }
   ],
   "source": [
    "qsim_simulator = qsimcirq.QSimSimulator()\n",
    "results = qsim_simulator.simulate(circuit)\n",
    "print(results.final_state_vector)\n",
    "print([i for i in results.final_state_vector])"
   ]
  },
  {
   "cell_type": "code",
   "execution_count": 61,
   "metadata": {},
   "outputs": [
    {
     "name": "stdout",
     "output_type": "stream",
     "text": [
      "m=10100, 01110\n"
     ]
    }
   ],
   "source": [
    "# Simulate measuring at the end of the circuit.\n",
    "measured_circuit = circuit + cirq.measure(q0, q1, key='m')\n",
    "measure_results = qsim_simulator.run(measured_circuit, repetitions=5)\n",
    "print(measure_results)"
   ]
  },
  {
   "cell_type": "code",
   "execution_count": 62,
   "metadata": {},
   "outputs": [
    {
     "name": "stdout",
     "output_type": "stream",
     "text": [
      "[(0.5263157486915588+0j), (0.4993070065975189+0j)]\n"
     ]
    }
   ],
   "source": [
    "# Calculate only the amplitudes of the |00) and |01) states.\n",
    "amp_results = qsim_simulator.compute_amplitudes(\n",
    "    circuit, bitstrings=[0b00, 0b01])\n",
    "print(amp_results)"
   ]
  },
  {
   "cell_type": "code",
   "execution_count": 64,
   "metadata": {},
   "outputs": [
    {
     "name": "stdout",
     "output_type": "stream",
     "text": [
      "[(0.10947357293963432+0j), (0.9456875034570694+0j)]\n"
     ]
    }
   ],
   "source": [
    "# Set the \"noisy repetitions\" to 100.\n",
    "# This parameter only affects expectation value calculations.\n",
    "options = {'r': 1000}\n",
    "# Also set the random seed to get reproducible results.\n",
    "ev_simulator = qsimcirq.QSimSimulator(qsim_options=options, seed=1)\n",
    "# Define observables to measure: <Z> for q0 and <X> for q1.\n",
    "pauli_sum1 = cirq.Z(q0)\n",
    "pauli_sum2 = cirq.X(q1)\n",
    "# Calculate expectation values for the given observables.\n",
    "ev_results = ev_simulator.simulate_expectation_values(\n",
    "    circuit,\n",
    "    observables=[pauli_sum1, pauli_sum2],\n",
    ")\n",
    "print(ev_results)"
   ]
  },
  {
   "cell_type": "code",
   "execution_count": 68,
   "metadata": {},
   "outputs": [
    {
     "name": "stdout",
     "output_type": "stream",
     "text": [
      "Counter({1: 5058, 0: 4942})\n"
     ]
    }
   ],
   "source": [
    "qsim_simulator = qsimcirq.QSimSimulator()\n",
    "q0 = cirq.LineQubit(0)\n",
    "circuit = cirq.Circuit(\n",
    "    cirq.bit_flip(p=0.5).on(q0),\n",
    "    cirq.measure(q0, key='result')\n",
    ")\n",
    "result = qsim_simulator.run(circuit, repetitions=10000)\n",
    "print(result.histogram(key='result'))"
   ]
  },
  {
   "cell_type": "code",
   "execution_count": 69,
   "metadata": {},
   "outputs": [
    {
     "name": "stdout",
     "output_type": "stream",
     "text": [
      "op_num=00001000001000000001\n",
      "result=00001000001000000001\n"
     ]
    }
   ],
   "source": [
    "q0 = cirq.LineQubit(0)\n",
    "# equivalent to cirq.bit_flip(p=0.2)\n",
    "my_channel = cirq.MixedUnitaryChannel(\n",
    "    [(0.8, cirq.unitary(cirq.I)), (0.2, cirq.unitary(cirq.X))],\n",
    "    key='op_num',\n",
    ")\n",
    "circuit = cirq.Circuit(\n",
    "    my_channel.on(q0),\n",
    "    cirq.measure(q0, key='result')\n",
    ")\n",
    "result = cirq.Simulator(seed=0).run(circuit, repetitions=20)\n",
    "# `op_num` and `result` are always equal.\n",
    "print(result)"
   ]
  },
  {
   "cell_type": "code",
   "execution_count": 78,
   "metadata": {},
   "outputs": [
    {
     "name": "stdout",
     "output_type": "stream",
     "text": [
      "op_num=11001110011000100011\n",
      "result=11001110011000100011\n"
     ]
    }
   ],
   "source": [
    "import numpy as np\n",
    "\n",
    "q0 = cirq.LineQubit(0)\n",
    "# equivalent to cirq.amplitude_damp(gamma=0.2)\n",
    "gamma = 0.5\n",
    "my_channel = cirq.KrausChannel(\n",
    "    [\n",
    "        np.array([[0, np.sqrt(gamma)], [0, 0]]),    # decay |1) -> |0)\n",
    "        np.array([[1, 0], [0, np.sqrt(1-gamma)]]),  # stay in |1)\n",
    "    ],\n",
    "    key='op_num',\n",
    ")\n",
    "circuit = cirq.Circuit(\n",
    "    cirq.X(q0),\n",
    "    my_channel.on(q0),\n",
    "    cirq.measure(q0, key='result')\n",
    ")\n",
    "result = cirq.Simulator(seed=0).run(circuit, repetitions=20)\n",
    "# `op_num` and `result` are always equal.\n",
    "print(result)"
   ]
  },
  {
   "cell_type": "code",
   "execution_count": 79,
   "metadata": {},
   "outputs": [
    {
     "name": "stdout",
     "output_type": "stream",
     "text": [
      "0: ───I───X[cirq.VirtualTag()]───M('result_0')───X[cirq.VirtualTag()]───M('result_1')───X[cirq.VirtualTag()]───\n",
      "First measure: Counter({1: 20})\n",
      "Second measure: Counter({0: 20})\n"
     ]
    }
   ],
   "source": [
    "q0 = cirq.LineQubit(0)\n",
    "circuit = cirq.Circuit(\n",
    "    cirq.I(q0),\n",
    "    cirq.measure(q0, key='result_0'),\n",
    "    cirq.measure(q0, key='result_1'),\n",
    ")\n",
    "# Applies noise after every gate, even measurements.\n",
    "noisy_circuit = circuit.with_noise(cirq.X)\n",
    "print(noisy_circuit)\n",
    "result = cirq.Simulator(seed=0).run(noisy_circuit, repetitions=20)\n",
    "print(\"First measure:\", result.histogram(key='result_0'))\n",
    "print(\"Second measure:\", result.histogram(key='result_1'))"
   ]
  },
  {
   "cell_type": "code",
   "execution_count": 80,
   "metadata": {},
   "outputs": [
    {
     "name": "stdout",
     "output_type": "stream",
     "text": [
      "0: ───I───X───BF(0.2)───M('result')───\n",
      "Counter({1: 795, 0: 205})\n"
     ]
    }
   ],
   "source": [
    "from cirq.devices import InsertionNoiseModel\n",
    "\n",
    "q0 = cirq.LineQubit(0)\n",
    "circuit = cirq.Circuit(\n",
    "    cirq.I(q0),\n",
    "    cirq.X(q0),\n",
    "    cirq.measure(q0, key='result'),\n",
    ")\n",
    "# Apply bitflip noise after each X gate.\n",
    "target_op = cirq.OpIdentifier(cirq.XPowGate, q0)\n",
    "insert_op = cirq.bit_flip(p=0.2).on(q0)\n",
    "noise_model = InsertionNoiseModel(\n",
    "    ops_added={target_op: insert_op},\n",
    "    require_physical_tag=False,  # For use outside calibration-to-noise\n",
    ")\n",
    "noisy_circuit = circuit.with_noise(noise_model)\n",
    "print(noisy_circuit)\n",
    "result = cirq.Simulator(seed=0).run(noisy_circuit, repetitions=1000)\n",
    "print(result.histogram(key='result'))"
   ]
  },
  {
   "cell_type": "code",
   "execution_count": 82,
   "metadata": {},
   "outputs": [
    {
     "data": {
      "image/png": "[encoded data removed]",
      "text/plain": [
       "<Figure size 576x576 with 2 Axes>"
      ]
     },
     "metadata": {
      "needs_background": "light"
     },
     "output_type": "display_data"
    }
   ],
   "source": [
    "import matplotlib.pyplot as plt\n",
    "single_qubit_heatmap = cirq.Heatmap({\n",
    "    (cirq.GridQubit(0, 0),): 0.1,\n",
    "    (cirq.GridQubit(0, 1),): 0.2,\n",
    "    (cirq.GridQubit(0, 2),): 0.3,\n",
    "    (cirq.GridQubit(1, 0),): 0.4,\n",
    "})\n",
    "\n",
    "_, ax = plt.subplots(figsize=(8, 8))\n",
    "_ = single_qubit_heatmap.plot(ax)"
   ]
  },
  {
   "cell_type": "code",
   "execution_count": 83,
   "metadata": {},
   "outputs": [
    {
     "data": {
      "image/png": "[encoded data removed]",
      "text/plain": [
       "<Figure size 576x576 with 2 Axes>"
      ]
     },
     "metadata": {
      "needs_background": "light"
     },
     "output_type": "display_data"
    }
   ],
   "source": [
    "two_qubit_interaction_heatmap = cirq.TwoQubitInteractionHeatmap({\n",
    "    (cirq.GridQubit(0, 0), cirq.GridQubit(0, 1)): 0.1,\n",
    "    (cirq.GridQubit(0, 1), cirq.GridQubit(0, 2)): 0.2,\n",
    "    (cirq.GridQubit(1, 0), cirq.GridQubit(0, 0)): 0.3,\n",
    "    (cirq.GridQubit(3, 3), cirq.GridQubit(3, 2)): 0.9,\n",
    "}, annotation_format=\"0.2f\", title = 'Example Two-Qubit Heatmap')\n",
    "\n",
    "_, ax = plt.subplots(figsize=(8, 8))\n",
    "_ = two_qubit_interaction_heatmap.plot(ax)"
   ]
  },
  {
   "cell_type": "code",
   "execution_count": 84,
   "metadata": {},
   "outputs": [
    {
     "data": {
      "image/png": "[encoded data removed]",
      "text/plain": [
       "<Figure size 576x576 with 2 Axes>"
      ]
     },
     "metadata": {
      "needs_background": "light"
     },
     "output_type": "display_data"
    }
   ],
   "source": [
    "_, ax = plt.subplots(figsize=(8, 8))\n",
    "_ = two_qubit_interaction_heatmap.plot(ax,\n",
    "                                       title = 'Heatmap with modified Colorbar',\n",
    "                                       plot_colorbar = True,\n",
    "                                       colorbar_position = 'top',\n",
    "                                       colorbar_size = '10%',\n",
    "                                       colorbar_pad = '10%',\n",
    "                                       colorbar_options = {\n",
    "                                           'drawedges' : True\n",
    "                                       })"
   ]
  },
  {
   "cell_type": "code",
   "execution_count": 85,
   "metadata": {},
   "outputs": [],
   "source": [
    "# Standard imports\n",
    "import numpy as np\n",
    "\n",
    "from cirq.contrib.svg import SVGCircuit"
   ]
  },
  {
   "cell_type": "code",
   "execution_count": 86,
   "metadata": {},
   "outputs": [
    {
     "data": {
      "text/plain": [
       "array([0.  , 0.25, 0.5 , 0.75, 1.  , 1.25, 1.5 , 1.75])"
      ]
     },
     "execution_count": 86,
     "metadata": {},
     "output_type": "execute_result"
    }
   ],
   "source": [
    "exponents = np.linspace(0, 7/4, 8)\n",
    "exponents"
   ]
  },
  {
   "cell_type": "code",
   "execution_count": 87,
   "metadata": {},
   "outputs": [
    {
     "data": {
      "text/plain": [
       "([cirq.PhasedXZGate(axis_phase_exponent=0.0, x_exponent=0.5, z_exponent=0.0),\n",
       "  cirq.PhasedXZGate(axis_phase_exponent=0.0, x_exponent=0.5, z_exponent=0.25),\n",
       "  cirq.PhasedXZGate(axis_phase_exponent=0.0, x_exponent=0.5, z_exponent=0.5),\n",
       "  cirq.PhasedXZGate(axis_phase_exponent=0.0, x_exponent=0.5, z_exponent=0.75),\n",
       "  cirq.PhasedXZGate(axis_phase_exponent=0.0, x_exponent=0.5, z_exponent=1.0),\n",
       "  cirq.PhasedXZGate(axis_phase_exponent=0.0, x_exponent=0.5, z_exponent=1.25),\n",
       "  cirq.PhasedXZGate(axis_phase_exponent=0.0, x_exponent=0.5, z_exponent=1.5),\n",
       "  cirq.PhasedXZGate(axis_phase_exponent=0.0, x_exponent=0.5, z_exponent=1.75),\n",
       "  cirq.PhasedXZGate(axis_phase_exponent=0.25, x_exponent=0.5, z_exponent=0.0),\n",
       "  cirq.PhasedXZGate(axis_phase_exponent=0.25, x_exponent=0.5, z_exponent=0.25)],\n",
       " '...')"
      ]
     },
     "execution_count": 87,
     "metadata": {},
     "output_type": "execute_result"
    }
   ],
   "source": [
    "import itertools\n",
    "SINGLE_QUBIT_GATES = [\n",
    "    cirq.PhasedXZGate(x_exponent=0.5, z_exponent=z, axis_phase_exponent=a)\n",
    "    for a, z in itertools.product(exponents, repeat=2)\n",
    "]\n",
    "SINGLE_QUBIT_GATES[:10], '...'"
   ]
  },
  {
   "cell_type": "code",
   "execution_count": 88,
   "metadata": {},
   "outputs": [
    {
     "data": {
      "image/svg+xml": "<svg xmlns=\"http://www.w3.org/2000/svg\" width=\"1439.6631640625\" height=\"100.0\"><line x1=\"30.0\" x2=\"1409.6631640625\" y1=\"25.0\" y2=\"25.0\" stroke=\"#1967d2\" stroke-width=\"1\" /><line x1=\"30.0\" x2=\"1409.6631640625\" y1=\"75.0\" y2=\"75.0\" stroke=\"#1967d2\" stroke-width=\"1\" /><line x1=\"307.13798828125005\" x2=\"307.13798828125005\" y1=\"25.0\" y2=\"75.0\" stroke=\"black\" stroke-width=\"3\" /><line x1=\"600.6117773437501\" x2=\"600.6117773437501\" y1=\"25.0\" y2=\"75.0\" stroke=\"black\" stroke-width=\"3\" /><line x1=\"886.2994335937501\" x2=\"886.2994335937501\" y1=\"25.0\" y2=\"75.0\" stroke=\"black\" stroke-width=\"3\" /><line x1=\"1152.5251757812503\" x2=\"1152.5251757812503\" y1=\"25.0\" y2=\"75.0\" stroke=\"black\" stroke-width=\"3\" /><rect x=\"10.0\" y=\"5.0\" width=\"40\" height=\"40\" stroke=\"black\" fill=\"white\" stroke-width=\"0\" /><text x=\"30.0\" y=\"25.0\" dominant-baseline=\"middle\" text-anchor=\"middle\" font-size=\"14px\" font-family=\"Arial\">0: </text><rect x=\"10.0\" y=\"55.0\" width=\"40\" height=\"40\" stroke=\"black\" fill=\"white\" stroke-width=\"0\" /><text x=\"30.0\" y=\"75.0\" dominant-baseline=\"middle\" text-anchor=\"middle\" font-size=\"14px\" font-family=\"Arial\">1: </text><rect x=\"70.00000000000001\" y=\"5.0\" width=\"180.80218750000003\" height=\"40\" stroke=\"black\" fill=\"white\" stroke-width=\"1\" /><text x=\"160.40109375000003\" y=\"25.0\" dominant-baseline=\"middle\" text-anchor=\"middle\" font-size=\"14px\" font-family=\"Arial\">PhXZ(a=1.5,x=0.5,z=0)</text><rect x=\"70.00000000000001\" y=\"55.0\" width=\"180.80218750000003\" height=\"40\" stroke=\"black\" fill=\"white\" stroke-width=\"1\" /><text x=\"160.40109375000003\" y=\"75.0\" dominant-baseline=\"middle\" text-anchor=\"middle\" font-size=\"14px\" font-family=\"Arial\">PhXZ(a=0.75,x=0.5,z=1.75)</text><rect x=\"270.80218750000006\" y=\"5.0\" width=\"72.6716015625\" height=\"40\" stroke=\"black\" fill=\"white\" stroke-width=\"1\" /><text x=\"307.13798828125005\" y=\"25.0\" dominant-baseline=\"middle\" text-anchor=\"middle\" font-size=\"14px\" font-family=\"Arial\">iSwap</text><rect x=\"270.80218750000006\" y=\"55.0\" width=\"72.6716015625\" height=\"40\" stroke=\"black\" fill=\"white\" stroke-width=\"1\" /><text x=\"307.13798828125005\" y=\"75.0\" dominant-baseline=\"middle\" text-anchor=\"middle\" font-size=\"14px\" font-family=\"Arial\">iSwap^0.5</text><rect x=\"363.47378906250003\" y=\"5.0\" width=\"180.80218750000003\" height=\"40\" stroke=\"black\" fill=\"white\" stroke-width=\"1\" /><text x=\"453.87488281250006\" y=\"25.0\" dominant-baseline=\"middle\" text-anchor=\"middle\" font-size=\"14px\" font-family=\"Arial\">PhXZ(a=1,x=0.5,z=0.5)</text><rect x=\"363.47378906250003\" y=\"55.0\" width=\"180.80218750000003\" height=\"40\" stroke=\"black\" fill=\"white\" stroke-width=\"1\" /><text x=\"453.87488281250006\" y=\"75.0\" dominant-baseline=\"middle\" text-anchor=\"middle\" font-size=\"14px\" font-family=\"Arial\">PhXZ(a=1.25,x=0.5,z=1.75)</text><rect x=\"564.2759765625001\" y=\"5.0\" width=\"72.6716015625\" height=\"40\" stroke=\"black\" fill=\"white\" stroke-width=\"1\" /><text x=\"600.6117773437501\" y=\"25.0\" dominant-baseline=\"middle\" text-anchor=\"middle\" font-size=\"14px\" font-family=\"Arial\">iSwap</text><rect x=\"564.2759765625001\" y=\"55.0\" width=\"72.6716015625\" height=\"40\" stroke=\"black\" fill=\"white\" stroke-width=\"1\" /><text x=\"600.6117773437501\" y=\"75.0\" dominant-baseline=\"middle\" text-anchor=\"middle\" font-size=\"14px\" font-family=\"Arial\">iSwap^0.5</text><rect x=\"656.9475781250001\" y=\"5.0\" width=\"173.01605468750003\" height=\"40\" stroke=\"black\" fill=\"white\" stroke-width=\"1\" /><text x=\"743.45560546875\" y=\"25.0\" dominant-baseline=\"middle\" text-anchor=\"middle\" font-size=\"14px\" font-family=\"Arial\">PhXZ(a=1.25,x=0.5,z=0.5)</text><rect x=\"656.9475781250001\" y=\"55.0\" width=\"173.01605468750003\" height=\"40\" stroke=\"black\" fill=\"white\" stroke-width=\"1\" /><text x=\"743.45560546875\" y=\"75.0\" dominant-baseline=\"middle\" text-anchor=\"middle\" font-size=\"14px\" font-family=\"Arial\">PhXZ(a=0.75,x=0.5,z=1)</text><rect x=\"849.9636328125001\" y=\"5.0\" width=\"72.6716015625\" height=\"40\" stroke=\"black\" fill=\"white\" stroke-width=\"1\" /><text x=\"886.2994335937501\" y=\"25.0\" dominant-baseline=\"middle\" text-anchor=\"middle\" font-size=\"14px\" font-family=\"Arial\">iSwap</text><rect x=\"849.9636328125001\" y=\"55.0\" width=\"72.6716015625\" height=\"40\" stroke=\"black\" fill=\"white\" stroke-width=\"1\" /><text x=\"886.2994335937501\" y=\"75.0\" dominant-baseline=\"middle\" text-anchor=\"middle\" font-size=\"14px\" font-family=\"Arial\">iSwap^0.5</text><rect x=\"942.6352343750001\" y=\"5.0\" width=\"153.554140625\" height=\"40\" stroke=\"black\" fill=\"white\" stroke-width=\"1\" /><text x=\"1019.4123046875001\" y=\"25.0\" dominant-baseline=\"middle\" text-anchor=\"middle\" font-size=\"14px\" font-family=\"Arial\">PhXZ(a=0,x=0.5,z=0)</text><rect x=\"942.6352343750001\" y=\"55.0\" width=\"153.554140625\" height=\"40\" stroke=\"black\" fill=\"white\" stroke-width=\"1\" /><text x=\"1019.4123046875001\" y=\"75.0\" dominant-baseline=\"middle\" text-anchor=\"middle\" font-size=\"14px\" font-family=\"Arial\">PhXZ(a=0,x=0.5,z=0.5)</text><rect x=\"1116.1893750000002\" y=\"5.0\" width=\"72.6716015625\" height=\"40\" stroke=\"black\" fill=\"white\" stroke-width=\"1\" /><text x=\"1152.5251757812503\" y=\"25.0\" dominant-baseline=\"middle\" text-anchor=\"middle\" font-size=\"14px\" font-family=\"Arial\">iSwap</text><rect x=\"1116.1893750000002\" y=\"55.0\" width=\"72.6716015625\" height=\"40\" stroke=\"black\" fill=\"white\" stroke-width=\"1\" /><text x=\"1152.5251757812503\" y=\"75.0\" dominant-baseline=\"middle\" text-anchor=\"middle\" font-size=\"14px\" font-family=\"Arial\">iSwap^0.5</text><rect x=\"1208.8609765625001\" y=\"5.0\" width=\"180.80218750000003\" height=\"40\" stroke=\"black\" fill=\"white\" stroke-width=\"1\" /><text x=\"1299.2620703125\" y=\"25.0\" dominant-baseline=\"middle\" text-anchor=\"middle\" font-size=\"14px\" font-family=\"Arial\">PhXZ(a=0.5,x=0.5,z=0.5)</text><rect x=\"1208.8609765625001\" y=\"55.0\" width=\"180.80218750000003\" height=\"40\" stroke=\"black\" fill=\"white\" stroke-width=\"1\" /><text x=\"1299.2620703125\" y=\"75.0\" dominant-baseline=\"middle\" text-anchor=\"middle\" font-size=\"14px\" font-family=\"Arial\">PhXZ(a=1.75,x=0.5,z=1.25)</text></svg>",
      "text/plain": [
       "<cirq.contrib.svg.svg.SVGCircuit at 0x233c3c69ee0>"
      ]
     },
     "execution_count": 88,
     "metadata": {},
     "output_type": "execute_result"
    }
   ],
   "source": [
    "import cirq_google as cg\n",
    "from cirq.experiments import random_quantum_circuit_generation as rqcg\n",
    "\n",
    "q0, q1 = cirq.LineQubit.range(2)\n",
    "circuit = rqcg.random_rotations_between_two_qubit_circuit(\n",
    "    q0, q1, \n",
    "    depth=4, \n",
    "    two_qubit_op_factory=lambda a, b, _: cirq.SQRT_ISWAP(a, b), \n",
    "    single_qubit_gates=SINGLE_QUBIT_GATES\n",
    ")\n",
    "SVGCircuit(circuit)"
   ]
  },
  {
   "cell_type": "code",
   "execution_count": 89,
   "metadata": {},
   "outputs": [],
   "source": [
    "# Make long circuits (which we will truncate)\n",
    "MAX_DEPTH = 100\n",
    "N_CIRCUITS = 10\n",
    "circuits = [\n",
    "    rqcg.random_rotations_between_two_qubit_circuit(\n",
    "        q0, q1, \n",
    "        depth=MAX_DEPTH, \n",
    "        two_qubit_op_factory=lambda a, b, _: cirq.SQRT_ISWAP(a, b), \n",
    "        single_qubit_gates=SINGLE_QUBIT_GATES)\n",
    "    for _ in range(N_CIRCUITS)\n",
    "]"
   ]
  },
  {
   "cell_type": "code",
   "execution_count": 90,
   "metadata": {},
   "outputs": [
    {
     "data": {
      "text/plain": [
       "array([  1,  10,  19,  28,  37,  46,  55,  64,  73,  82,  91, 100])"
      ]
     },
     "execution_count": 90,
     "metadata": {},
     "output_type": "execute_result"
    }
   ],
   "source": [
    "# We will truncate to these lengths\n",
    "cycle_depths = np.arange(1, MAX_DEPTH + 1, 9)\n",
    "cycle_depths"
   ]
  },
  {
   "cell_type": "code",
   "execution_count": 91,
   "metadata": {},
   "outputs": [
    {
     "name": "stdout",
     "output_type": "stream",
     "text": [
      "........................................................................................................................"
     ]
    }
   ],
   "source": [
    "pure_sim = cirq.Simulator()\n",
    "\n",
    "# Pauli Error. If there is an error, it is either X, Y, or Z\n",
    "# with probability E_PAULI / 3\n",
    "E_PAULI = 5e-3\n",
    "noisy_sim = cirq.DensityMatrixSimulator(noise=cirq.depolarize(E_PAULI))\n",
    "\n",
    "# These two qubit circuits have 2^2 = 4 probabilities\n",
    "DIM = 4\n",
    "\n",
    "records = []\n",
    "for cycle_depth in cycle_depths:\n",
    "    for circuit_i, circuit in enumerate(circuits):\n",
    "\n",
    "        # Truncate the long circuit to the requested cycle_depth\n",
    "        circuit_depth = cycle_depth * 2 + 1\n",
    "        assert circuit_depth <= len(circuit)\n",
    "        trunc_circuit = circuit[:circuit_depth]\n",
    "\n",
    "        # Pure-state simulation\n",
    "        psi = pure_sim.simulate(trunc_circuit).final_state_vector\n",
    "        pure_probs = np.abs(psi)**2\n",
    "\n",
    "        # Noisy execution\n",
    "        meas_circuit = trunc_circuit + cirq.measure(q0, q1)\n",
    "        sampled_inds = noisy_sim.sample(meas_circuit, repetitions=10_000).values[:,0]\n",
    "        sampled_probs = np.bincount(sampled_inds, minlength=DIM) / len(sampled_inds)\n",
    "\n",
    "        # Save the results\n",
    "        records += [{\n",
    "            'circuit_i': circuit_i,\n",
    "            'cycle_depth': cycle_depth,\n",
    "            'circuit_depth': circuit_depth,\n",
    "            'pure_probs': pure_probs,\n",
    "            'sampled_probs': sampled_probs,\n",
    "        }]\n",
    "        print('.', end='', flush=True)"
   ]
  },
  {
   "cell_type": "code",
   "execution_count": 92,
   "metadata": {},
   "outputs": [],
   "source": [
    "from cirq.experiments import random_quantum_circuit_generation as rqcg\n",
    "\n",
    "RANDOM_SEED = np.random.RandomState(53)\n",
    "\n",
    "circuit_library = rqcg.generate_library_of_2q_circuits(\n",
    "    n_library_circuits=20, two_qubit_gate=cirq.SQRT_ISWAP, random_state=RANDOM_SEED\n",
    ")\n",
    "max_depth = 100\n",
    "cycle_depths = np.arange(3, max_depth, 20)"
   ]
  },
  {
   "cell_type": "code",
   "execution_count": 93,
   "metadata": {},
   "outputs": [],
   "source": [
    "# build sqrt_iswap gate from a phased fsim gate\n",
    "sqrt_iswap_as_phased_fsim = cirq.PhasedFSimGate.from_fsim_rz(\n",
    "    theta=-np.pi / 4, phi=0, rz_angles_before=(0, 0), rz_angles_after=(0, 0)\n",
    ")\n",
    "\n",
    "# check that the unitaries are the same\n",
    "np.testing.assert_allclose(\n",
    "    cirq.unitary(sqrt_iswap_as_phased_fsim), cirq.unitary(cirq.SQRT_ISWAP), atol=1e-8\n",
    ")"
   ]
  },
  {
   "cell_type": "code",
   "execution_count": 94,
   "metadata": {},
   "outputs": [],
   "source": [
    "from collections import defaultdict\n",
    "\n",
    "phi_angles = defaultdict(lambda: RANDOM_SEED.uniform(low=0, high=2 / 16 * np.pi))\n",
    "\n",
    "\n",
    "def _sub_iswap(op):\n",
    "    if op.gate == cirq.SQRT_ISWAP:\n",
    "        # add coherent error to the phi angle while creating a sqrt iswap gate\n",
    "        perturbed_sqrt_iswap = cirq.PhasedFSimGate.from_fsim_rz(\n",
    "            theta=-np.pi / 4,\n",
    "            phi=phi_angles[op.qubits],\n",
    "            rz_angles_before=(0, 0),\n",
    "            rz_angles_after=(0, 0),\n",
    "        )\n",
    "\n",
    "        return perturbed_sqrt_iswap.on(*op.qubits)\n",
    "    return op"
   ]
  },
  {
   "cell_type": "code",
   "execution_count": 96,
   "metadata": {},
   "outputs": [],
   "source": [
    "from typing import Sequence\n",
    "\n",
    "\n",
    "class FusedNoiseModel(cirq.NoiseModel):\n",
    "    \"\"\"A noise model that applies other noise models in sequence\"\"\"\n",
    "\n",
    "    def __init__(self, models: Sequence[cirq.NoiseModel]):\n",
    "        self.models = models\n",
    "\n",
    "    def noisy_moment(self, moment: 'cirq.Moment', system_qubits: Sequence['cirq.Qid']):\n",
    "        \"\"\"Produce a list of moments by applying each model in sequence to the available moments\"\"\"\n",
    "\n",
    "        moments = [moment]\n",
    "        for model in self.models:\n",
    "            new_moments = []\n",
    "            for moment in moments:\n",
    "                ret = model.noisy_moment(moment, system_qubits)\n",
    "                # handle constituent noise models returning lists of or singleton moments\n",
    "                new_moments.extend([ret] if isinstance(ret, cirq.Moment) else ret)\n",
    "            moments = new_moments\n",
    "        return moments"
   ]
  },
  {
   "cell_type": "code",
   "execution_count": 97,
   "metadata": {},
   "outputs": [],
   "source": [
    "# create noise models\n",
    "coherent_noise = cirq.devices.noise_model.GateSubstitutionNoiseModel(_sub_iswap)\n",
    "incoherent_noise = cirq.ConstantQubitNoiseModel(cirq.depolarize(5e-3))\n",
    "noiseless = None\n",
    "fused_noise = FusedNoiseModel([coherent_noise, incoherent_noise])\n",
    "\n",
    "# create samplers by passing noise models to simulator constructor\n",
    "coherent_sampler = cirq.DensityMatrixSimulator(noise=coherent_noise)\n",
    "incoherent_sampler = cirq.DensityMatrixSimulator(noise=incoherent_noise)\n",
    "noiseless_sampler = cirq.DensityMatrixSimulator(noise=noiseless)\n",
    "fused_sampler = cirq.DensityMatrixSimulator(noise=fused_noise)\n",
    "\n",
    "# from here on out, all experiment steps will be performed on\n",
    "#   samplers and their results in the following order.\n",
    "samplers = [coherent_sampler, incoherent_sampler, noiseless_sampler, fused_sampler]\n",
    "noise_titles = ['Coherent', 'Incoherent', 'Noiseless', 'Fused']"
   ]
  },
  {
   "cell_type": "code",
   "execution_count": 108,
   "metadata": {},
   "outputs": [
    {
     "data": {
      "image/png": "[encoded data removed]",
      "text/plain": [
       "<Figure size 432x288 with 1 Axes>"
      ]
     },
     "metadata": {},
     "output_type": "display_data"
    }
   ],
   "source": [
    "import networkx as nx\n",
    "import itertools\n",
    "\n",
    "# a set of six example GridQubits\n",
    "qubits = cirq.GridQubit.rect(3, 2, 4, 3)\n",
    "# only use the first num_qubits many qubits\n",
    "num_qubits = 5\n",
    "qubits = qubits[:num_qubits]\n",
    "\n",
    "# create graph from adjacent qubits\n",
    "graph = nx.Graph((q1, q2) for (q1, q2) in itertools.combinations(qubits, 2) if q1.is_adjacent(q2))\n",
    "pos = {q: (q.row, q.col) for q in qubits}\n",
    "nx.draw_networkx(graph, pos=pos)"
   ]
  },
  {
   "cell_type": "code",
   "execution_count": 99,
   "metadata": {},
   "outputs": [],
   "source": [
    "combs_by_layer = rqcg.get_random_combinations_for_device(\n",
    "    n_library_circuits=len(circuit_library),\n",
    "    n_combinations=10,\n",
    "    device_graph=graph,\n",
    "    random_state=RANDOM_SEED,\n",
    ")"
   ]
  },
  {
   "cell_type": "code",
   "execution_count": 109,
   "metadata": {},
   "outputs": [
    {
     "name": "stderr",
     "output_type": "stream",
     "text": [
      "100%|██████████| 207/207 [00:10<00:00, 19.38it/s]\n",
      "100%|██████████| 207/207 [00:34<00:00,  6.01it/s]\n",
      "100%|██████████| 207/207 [00:09<00:00, 21.23it/s]\n",
      "100%|██████████| 207/207 [00:35<00:00,  5.81it/s]\n"
     ]
    }
   ],
   "source": [
    "import cirq.experiments.xeb_sampling as xeb_sampling\n",
    "import cirq.experiments.xeb_fitting as xeb_fitting\n",
    "\n",
    "# use the same circuit library, cycle depths, combinations by layer,\n",
    "#   random seed and repetitions for both noise models' samplers.\n",
    "def sample_df(sampler):\n",
    "    return xeb_sampling.sample_2q_xeb_circuits(\n",
    "        sampler=sampler,\n",
    "        circuits=circuit_library,\n",
    "        cycle_depths=cycle_depths,\n",
    "        combinations_by_layer=combs_by_layer,\n",
    "        shuffle=RANDOM_SEED,\n",
    "        repetitions=1000,\n",
    "    )\n",
    "\n",
    "\n",
    "sampled_dfs = list(map(sample_df, samplers))"
   ]
  },
  {
   "cell_type": "code",
   "execution_count": 110,
   "metadata": {},
   "outputs": [],
   "source": [
    "# use the same circuit library and cycle_depths for both\n",
    "#   noise models' sampled data.\n",
    "def estimate_fidelities(sampled_df):\n",
    "    return xeb_fitting.benchmark_2q_xeb_fidelities(\n",
    "        sampled_df=sampled_df, circuits=circuit_library, cycle_depths=cycle_depths\n",
    "    )\n",
    "\n",
    "\n",
    "circuit_fidelities = list(map(estimate_fidelities, sampled_dfs))"
   ]
  },
  {
   "cell_type": "code",
   "execution_count": 111,
   "metadata": {},
   "outputs": [],
   "source": [
    "fitted_fidelities = list(map(xeb_fitting.fit_exponential_decays, circuit_fidelities))"
   ]
  },
  {
   "cell_type": "code",
   "execution_count": 112,
   "metadata": {},
   "outputs": [
    {
     "name": "stderr",
     "output_type": "stream",
     "text": [
      "C:\\Users\\wdc\\AppData\\Local\\Temp\\ipykernel_8124\\4251997075.py:14: UserWarning: Matplotlib is currently using module://matplotlib_inline.backend_inline, which is a non-GUI backend, so cannot show the figure.\n",
      "  fig.show()\n"
     ]
    },
    {
     "data": {
      "image/png": "[encoded data removed]",
      "text/plain": [
       "<Figure size 936x936 with 8 Axes>"
      ]
     },
     "metadata": {
      "needs_background": "light"
     },
     "output_type": "display_data"
    }
   ],
   "source": [
    "import matplotlib.pyplot as plt\n",
    "\n",
    "fig, axes = plt.subplots(2, 2, figsize=(13, 13))\n",
    "for fidelities, ax, title in zip(fitted_fidelities, axes.flat, noise_titles):\n",
    "    # pull out the by-layer/cycle fidelity and turn it into error with 1-fidelity.\n",
    "    heatmap_data = {\n",
    "        pair: (1.0 - layer_fid) for ((_, _, pair), layer_fid) in fidelities.layer_fid.items()\n",
    "    }\n",
    "    cirq.TwoQubitInteractionHeatmap(heatmap_data, vmin=0, vmax=0.025).plot(ax)\n",
    "\n",
    "    ax.set_title(title)\n",
    "\n",
    "fig.tight_layout()\n",
    "fig.show()"
   ]
  },
  {
   "cell_type": "code",
   "execution_count": 113,
   "metadata": {},
   "outputs": [
    {
     "name": "stdout",
     "output_type": "stream",
     "text": [
      "0 (d=3): ───[+1]───\n"
     ]
    }
   ],
   "source": [
    "import cirq\n",
    "import numpy as np\n",
    "\n",
    "class QutritPlusGate(cirq.Gate):\n",
    "    \"\"\"A gate that adds one in the computational basis of a qutrit.\n",
    "\n",
    "    This gate acts on three-level systems. In the computational basis of\n",
    "    this system it enacts the transformation U|x〉 = |x + 1 mod 3〉, or\n",
    "    in other words U|0〉 = |1〉, U|1〉 = |2〉, and U|2> = |0〉.\n",
    "    \"\"\"\n",
    "\n",
    "    def _qid_shape_(self):\n",
    "        # By implementing this method this gate implements the\n",
    "        # cirq.qid_shape protocol and will return the tuple (3,)\n",
    "        # when cirq.qid_shape acts on an instance of this class.\n",
    "        # This indicates that the gate acts on a single qutrit.\n",
    "        return (3,)\n",
    "\n",
    "    def _unitary_(self):\n",
    "        # Since the gate acts on three level systems it has a unitary \n",
    "        # effect which is a three by three unitary matrix.\n",
    "        return np.array([[0, 0, 1],\n",
    "                         [1, 0, 0],\n",
    "                         [0, 1, 0]])\n",
    "\n",
    "    def _circuit_diagram_info_(self, args):\n",
    "        return '[+1]'\n",
    "\n",
    "# Here we create a qutrit for the gate to act on. \n",
    "q0 = cirq.LineQid(0, dimension=3)\n",
    "\n",
    "# We can now enact the gate on this qutrit.\n",
    "circuit = cirq.Circuit(\n",
    "    QutritPlusGate().on(q0)\n",
    ")\n",
    "\n",
    "# When we print this out we see that the qutrit is labeled by its dimension.\n",
    "print(circuit)"
   ]
  },
  {
   "cell_type": "code",
   "execution_count": 114,
   "metadata": {},
   "outputs": [
    {
     "name": "stdout",
     "output_type": "stream",
     "text": [
      "(3,)\n"
     ]
    }
   ],
   "source": [
    "# Create an instance of the qutrit gate defined above.\n",
    "gate = QutritPlusGate()\n",
    "\n",
    "# Verify that it acts on a single qutrit.\n",
    "print(cirq.qid_shape(gate))"
   ]
  },
  {
   "cell_type": "code",
   "execution_count": 115,
   "metadata": {},
   "outputs": [
    {
     "name": "stdout",
     "output_type": "stream",
     "text": [
      "[[0 0 1]\n",
      " [1 0 0]\n",
      " [0 1 0]]\n"
     ]
    }
   ],
   "source": [
    "# Create an instance of the qutrit gate defined above. This gate implements _unitary_.\n",
    "gate = QutritPlusGate()\n",
    "\n",
    "# Because it acts on qutrits, its unitary is a 3 by 3 matrix.\n",
    "print(cirq.unitary(gate))"
   ]
  },
  {
   "cell_type": "code",
   "execution_count": 116,
   "metadata": {},
   "outputs": [
    {
     "name": "stdout",
     "output_type": "stream",
     "text": [
      "(3,)\n"
     ]
    }
   ],
   "source": [
    "# Create a circuit from the gate we defined above.\n",
    "q0 = cirq.LineQid(0, dimension=3)\n",
    "circuit = cirq.Circuit(QutritPlusGate()(q0))\n",
    "\n",
    "# Run a simulation of this circuit.\n",
    "sim = cirq.Simulator()\n",
    "result = sim.simulate(circuit)\n",
    "\n",
    "# Verify that the returned state is that of a qutrit.\n",
    "print(cirq.qid_shape(result))"
   ]
  },
  {
   "cell_type": "code",
   "execution_count": 124,
   "metadata": {},
   "outputs": [
    {
     "name": "stdout",
     "output_type": "stream",
     "text": [
      "x=111, 222\n"
     ]
    }
   ],
   "source": [
    "# Create a circuit with three qutrit gates.\n",
    "q0, q1 = cirq.LineQid.range(2, dimension=3)\n",
    "circuit = cirq.Circuit([\n",
    "    QutritPlusGate()(q0), \n",
    "    QutritPlusGate()(q1),\n",
    "    QutritPlusGate()(q1),\n",
    "    cirq.measure(q0, q1, key='x')\n",
    "])\n",
    "\n",
    "# Sample from this circuit.\n",
    "result = cirq.sample(circuit, repetitions=3)\n",
    "\n",
    "# See that the results are all integers from 0 to 2.\n",
    "print(result)"
   ]
  },
  {
   "cell_type": "code",
   "execution_count": 135,
   "metadata": {},
   "outputs": [
    {
     "data": {
      "text/plain": [
       "{'x': array([[1, 2],\n",
       "        [1, 2],\n",
       "        [1, 2]], dtype=int8)}"
      ]
     },
     "execution_count": 135,
     "metadata": {},
     "output_type": "execute_result"
    }
   ],
   "source": [
    "result.measurements"
   ]
  }
 ],
 "metadata": {
  "kernelspec": {
   "display_name": "Python 3.9.12 ('base')",
   "language": "python",
   "name": "python3"
  },
  "language_info": {
   "codemirror_mode": {
    "name": "ipython",
    "version": 3
   },
   "file_extension": ".py",
   "mimetype": "text/x-python",
   "name": "python",
   "nbconvert_exporter": "python",
   "pygments_lexer": "ipython3",
   "version": "3.9.12"
  },
  "orig_nbformat": 4,
  "vscode": {
   "interpreter": {
    "hash": "6f5583cf1d9466b5c27e75c89cc6b383bed5736d6b16c51c8074d8690011a952"
   }
  }
 },
 "nbformat": 4,
 "nbformat_minor": 2
}
