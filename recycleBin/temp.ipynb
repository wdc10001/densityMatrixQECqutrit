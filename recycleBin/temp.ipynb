{
 "cells": [
  {
   "cell_type": "code",
   "execution_count": 3,
   "metadata": {},
   "outputs": [
    {
     "name": "stdout",
     "output_type": "stream",
     "text": [
      "['q0', 'q1', 'q2', 'q3', 'q4', 'q5', 'q6', 'q7', 'q8', 'q9', 'q10', 'q11', 'q12', 'q13', 'q14', 'q15', 'q16']\n"
     ]
    }
   ],
   "source": [
    "import numpy as np\n",
    "a=[f'q{i}' for i in range(17)]\n",
    "print(a)"
   ]
  },
  {
   "cell_type": "code",
   "execution_count": 6,
   "metadata": {},
   "outputs": [
    {
     "data": {
      "text/plain": [
       "array([[0., 0., 0., 0.],\n",
       "       [0., 0., 0., 0.],\n",
       "       [0., 0., 0., 0.],\n",
       "       [0., 0., 0., 0.]])"
      ]
     },
     "execution_count": 6,
     "metadata": {},
     "output_type": "execute_result"
    }
   ],
   "source": [
    "np.zeros((4,4))"
   ]
  },
  {
   "cell_type": "code",
   "execution_count": 11,
   "metadata": {},
   "outputs": [
    {
     "data": {
      "text/plain": [
       "array([[1., 0., 0., 0., 0., 0., 0., 0., 0.],\n",
       "       [0., 1., 0., 0., 0., 0., 0., 0., 0.],\n",
       "       [0., 0., 1., 0., 0., 0., 0., 0., 0.],\n",
       "       [0., 0., 0., 1., 0., 0., 0., 0., 0.],\n",
       "       [0., 0., 0., 0., 1., 0., 0., 0., 0.],\n",
       "       [0., 0., 0., 0., 0., 1., 0., 0., 0.],\n",
       "       [0., 0., 0., 0., 0., 0., 1., 0., 0.],\n",
       "       [0., 0., 0., 0., 0., 0., 0., 1., 0.],\n",
       "       [0., 0., 0., 0., 0., 0., 0., 0., 1.]])"
      ]
     },
     "execution_count": 11,
     "metadata": {},
     "output_type": "execute_result"
    }
   ],
   "source": [
    "import cirq\n",
    "cirq.unitary(cirq.I)\n",
    "np.identity(9)"
   ]
  },
  {
   "cell_type": "code",
   "execution_count": 8,
   "metadata": {},
   "outputs": [
    {
     "data": {
      "text/plain": [
       "array([[ 1.        ,  0.        ,  0.        ,  0.        ,  0.        ,\n",
       "         0.        ,  0.        ,  0.        ,  0.        ],\n",
       "       [ 0.        ,  1.        ,  0.        ,  0.        ,  0.        ,\n",
       "         0.        ,  0.        ,  0.        ,  0.        ],\n",
       "       [ 0.        ,  0.        ,  0.70710678,  0.        , -0.70710678,\n",
       "         0.        ,  0.        ,  0.        ,  0.        ],\n",
       "       [ 0.        ,  0.        ,  0.        ,  1.        ,  0.        ,\n",
       "         0.        ,  0.        ,  0.        ,  0.        ],\n",
       "       [ 0.        ,  0.        , -0.70710678,  0.        ,  0.70710678,\n",
       "         0.        ,  0.        ,  0.        ,  0.        ],\n",
       "       [ 0.        ,  0.        ,  0.        ,  0.        ,  0.        ,\n",
       "         1.        ,  0.        ,  0.        ,  0.        ],\n",
       "       [ 0.        ,  0.        ,  0.        ,  0.        ,  0.        ,\n",
       "         0.        ,  1.        ,  0.        ,  0.        ],\n",
       "       [ 0.        ,  0.        ,  0.        ,  0.        ,  0.        ,\n",
       "         0.        ,  0.        ,  1.        ,  0.        ],\n",
       "       [ 0.        ,  0.        ,  0.        ,  0.        ,  0.        ,\n",
       "         0.        ,  0.        ,  0.        ,  1.        ]])"
      ]
     },
     "execution_count": 8,
     "metadata": {},
     "output_type": "execute_result"
    }
   ],
   "source": [
    "from scipy.linalg import sqrtm\n",
    "s02 = np.array([[0],[0],[1],[0],[0],[0],[0],[0],[0]])\n",
    "# s02\n",
    "s11 = np.array([[0],[0],[0],[0],[1],[0],[0],[0],[0]])\n",
    "# s11\n",
    "K1 = (np.dot(s02,s11.T)+np.dot(s11,s02.T))\n",
    "sqrtm(np.identity(9)-K1.T.conjugate()*K1)\n",
    "# K1"
   ]
  },
  {
   "cell_type": "code",
   "execution_count": 24,
   "metadata": {},
   "outputs": [
    {
     "data": {
      "text/plain": [
       "array([[1., 0., 0., 0., 0., 0., 0., 0., 0.],\n",
       "       [0., 1., 0., 0., 0., 0., 0., 0., 0.],\n",
       "       [0., 0., 1., 0., 0., 0., 0., 0., 0.],\n",
       "       [0., 0., 0., 1., 0., 0., 0., 0., 0.],\n",
       "       [0., 0., 0., 0., 1., 0., 0., 0., 0.],\n",
       "       [0., 0., 0., 0., 0., 1., 0., 0., 0.],\n",
       "       [0., 0., 0., 0., 0., 0., 1., 0., 0.],\n",
       "       [0., 0., 0., 0., 0., 0., 0., 1., 0.],\n",
       "       [0., 0., 0., 0., 0., 0., 0., 0., 1.]])"
      ]
     },
     "execution_count": 24,
     "metadata": {},
     "output_type": "execute_result"
    }
   ],
   "source": [
    "cirq.bit_flip"
   ]
  },
  {
   "cell_type": "code",
   "execution_count": 6,
   "metadata": {},
   "outputs": [
    {
     "data": {
      "text/plain": [
       "array([[[1.+0.j, 0.+0.j, 0.+0.j],\n",
       "        [0.+0.j, 0.+0.j, 0.+0.j],\n",
       "        [0.+0.j, 0.+0.j, 0.+0.j]],\n",
       "\n",
       "       [[0.+0.j, 1.+0.j, 0.+0.j],\n",
       "        [0.+0.j, 0.+0.j, 0.+0.j],\n",
       "        [0.+0.j, 0.+0.j, 0.+0.j]],\n",
       "\n",
       "       [[0.+0.j, 0.+0.j, 1.+0.j],\n",
       "        [0.+0.j, 0.+0.j, 0.+0.j],\n",
       "        [0.+0.j, 0.+0.j, 0.+0.j]]], dtype=complex64)"
      ]
     },
     "execution_count": 6,
     "metadata": {},
     "output_type": "execute_result"
    }
   ],
   "source": [
    "cirq.reset\n",
    "channel = np.zeros((3,) * 3, dtype=np.complex64)\n",
    "channel[:, 0, :] = np.eye(3)\n",
    "channel"
   ]
  },
  {
   "cell_type": "code",
   "execution_count": null,
   "metadata": {},
   "outputs": [],
   "source": [
    "cirq.AmplitudeDampingChannel"
   ]
  },
  {
   "cell_type": "code",
   "execution_count": 9,
   "metadata": {},
   "outputs": [
    {
     "data": {
      "text/plain": [
       "array([[1, 2, 3],\n",
       "       [4, 5, 6],\n",
       "       [7, 8, 9]])"
      ]
     },
     "execution_count": 9,
     "metadata": {},
     "output_type": "execute_result"
    }
   ],
   "source": [
    "cirq.partial_trace(np.array([[1,2,3],[4,5,6],[7,8,9]]),keep_indices=[0])"
   ]
  },
  {
   "cell_type": "code",
   "execution_count": 14,
   "metadata": {},
   "outputs": [
    {
     "data": {
      "text/plain": [
       "0.3144994068603816"
      ]
     },
     "execution_count": 14,
     "metadata": {},
     "output_type": "execute_result"
    }
   ],
   "source": [
    "from numpy import random\n",
    "random.random()"
   ]
  },
  {
   "cell_type": "code",
   "execution_count": 15,
   "metadata": {},
   "outputs": [
    {
     "data": {
      "text/plain": [
       "[1, 2, 3]"
      ]
     },
     "execution_count": 15,
     "metadata": {},
     "output_type": "execute_result"
    }
   ],
   "source": [
    "[1,2,3,]"
   ]
  },
  {
   "cell_type": "code",
   "execution_count": 17,
   "metadata": {},
   "outputs": [
    {
     "name": "stdout",
     "output_type": "stream",
     "text": [
      "test执行耗时1.0129320621490479\n"
     ]
    }
   ],
   "source": [
    "import time\n",
    "\n",
    "\n",
    "def cost(func):\n",
    "    def warpper(*args, **kwargs):\n",
    "        t1 = time.time()\n",
    "        res = func(*args, **kwargs)\n",
    "        t2 = time.time()\n",
    "        print(func.__name__ + \"执行耗时\" +  str(t2-t1))\n",
    "        return res\n",
    "    return warpper\n",
    "\n",
    "\n",
    "@cost\n",
    "def test(sleep_time):\n",
    "    time.sleep(sleep_time)\n",
    "\n",
    "test(1)"
   ]
  },
  {
   "cell_type": "code",
   "execution_count": 18,
   "metadata": {},
   "outputs": [
    {
     "name": "stdout",
     "output_type": "stream",
     "text": [
      "执行了call方法\n",
      "True\n"
     ]
    }
   ],
   "source": [
    "class TestCall():\n",
    "    def __call__(self, *args, **kwargs):\n",
    "        print(\"执行了call方法\")\n",
    "\n",
    "tc = TestCall()\n",
    "tc()\n",
    "print(callable(tc))"
   ]
  },
  {
   "cell_type": "code",
   "execution_count": 19,
   "metadata": {},
   "outputs": [
    {
     "name": "stdout",
     "output_type": "stream",
     "text": [
      "函数执行时长:1.5104544162750244\n"
     ]
    }
   ],
   "source": [
    "import time\n",
    "\n",
    "\n",
    "class Decorator(object):\n",
    "    def __init__(self, func):\n",
    "        self.func = func\n",
    "\n",
    "    def __call__(self, *args, **kwargs):\n",
    "        t1 = time.time()\n",
    "        res = self.func(*args, **kwargs)\n",
    "        t2 = time.time()\n",
    "        print(\"函数执行时长:\"+ str(t2 - t1))\n",
    "\n",
    "\n",
    "@Decorator\n",
    "def test():\n",
    "    time.sleep(1.5)\n",
    "\n",
    "test()"
   ]
  },
  {
   "cell_type": "code",
   "execution_count": 20,
   "metadata": {},
   "outputs": [
    {
     "ename": "Exception",
     "evalue": "类Cat没有实现run方法",
     "output_type": "error",
     "traceback": [
      "\u001b[1;31m---------------------------------------------------------------------------\u001b[0m",
      "\u001b[1;31mException\u001b[0m                                 Traceback (most recent call last)",
      "\u001b[1;32mc:\\cloud\\QEC\\densityMatrix\\temp.ipynb Cell 13\u001b[0m in \u001b[0;36m<cell line: 17>\u001b[1;34m()\u001b[0m\n\u001b[0;32m     <a href='vscode-notebook-cell:/c%3A/cloud/QEC/densityMatrix/temp.ipynb#X15sZmlsZQ%3D%3D?line=12'>13</a>\u001b[0m     \u001b[39mdef\u001b[39;00m \u001b[39m__init__\u001b[39m(\u001b[39mself\u001b[39m, name):\n\u001b[0;32m     <a href='vscode-notebook-cell:/c%3A/cloud/QEC/densityMatrix/temp.ipynb#X15sZmlsZQ%3D%3D?line=13'>14</a>\u001b[0m         \u001b[39mself\u001b[39m\u001b[39m.\u001b[39mname \u001b[39m=\u001b[39m name\n\u001b[1;32m---> <a href='vscode-notebook-cell:/c%3A/cloud/QEC/densityMatrix/temp.ipynb#X15sZmlsZQ%3D%3D?line=16'>17</a>\u001b[0m \u001b[39mclass\u001b[39;00m \u001b[39mCat\u001b[39;00m(Animal):\n\u001b[0;32m     <a href='vscode-notebook-cell:/c%3A/cloud/QEC/densityMatrix/temp.ipynb#X15sZmlsZQ%3D%3D?line=17'>18</a>\u001b[0m     \u001b[39mdef\u001b[39;00m \u001b[39m__init__\u001b[39m(\u001b[39mself\u001b[39m, name):\n\u001b[0;32m     <a href='vscode-notebook-cell:/c%3A/cloud/QEC/densityMatrix/temp.ipynb#X15sZmlsZQ%3D%3D?line=18'>19</a>\u001b[0m         \u001b[39msuper\u001b[39m()\u001b[39m.\u001b[39m\u001b[39m__init__\u001b[39m(name)\n",
      "\u001b[1;32mc:\\cloud\\QEC\\densityMatrix\\temp.ipynb Cell 13\u001b[0m in \u001b[0;36mMyMeta.__new__\u001b[1;34m(cls, *args, **kwargs)\u001b[0m\n\u001b[0;32m      <a href='vscode-notebook-cell:/c%3A/cloud/QEC/densityMatrix/temp.ipynb#X15sZmlsZQ%3D%3D?line=5'>6</a>\u001b[0m \u001b[39mif\u001b[39;00m _class\u001b[39m.\u001b[39m\u001b[39m__name__\u001b[39m \u001b[39m!=\u001b[39m \u001b[39m'\u001b[39m\u001b[39mAnimal\u001b[39m\u001b[39m'\u001b[39m:\n\u001b[0;32m      <a href='vscode-notebook-cell:/c%3A/cloud/QEC/densityMatrix/temp.ipynb#X15sZmlsZQ%3D%3D?line=6'>7</a>\u001b[0m     \u001b[39mif\u001b[39;00m \u001b[39mnot\u001b[39;00m \u001b[39mhasattr\u001b[39m(_class, \u001b[39m'\u001b[39m\u001b[39mrun\u001b[39m\u001b[39m'\u001b[39m) \u001b[39mor\u001b[39;00m \u001b[39mnot\u001b[39;00m isfunction(\u001b[39mgetattr\u001b[39m(_class, \u001b[39m'\u001b[39m\u001b[39mrun\u001b[39m\u001b[39m'\u001b[39m)):\n\u001b[1;32m----> <a href='vscode-notebook-cell:/c%3A/cloud/QEC/densityMatrix/temp.ipynb#X15sZmlsZQ%3D%3D?line=7'>8</a>\u001b[0m         \u001b[39mraise\u001b[39;00m \u001b[39mException\u001b[39;00m(\u001b[39m'\u001b[39m\u001b[39m类\u001b[39m\u001b[39m{name}\u001b[39;00m\u001b[39m没有实现run方法\u001b[39m\u001b[39m'\u001b[39m\u001b[39m.\u001b[39mformat(name\u001b[39m=\u001b[39m_class\u001b[39m.\u001b[39m\u001b[39m__name__\u001b[39m))\n\u001b[0;32m      <a href='vscode-notebook-cell:/c%3A/cloud/QEC/densityMatrix/temp.ipynb#X15sZmlsZQ%3D%3D?line=8'>9</a>\u001b[0m \u001b[39mreturn\u001b[39;00m _class\n",
      "\u001b[1;31mException\u001b[0m: 类Cat没有实现run方法"
     ]
    }
   ],
   "source": [
    "from inspect import isfunction\n",
    "\n",
    "class MyMeta(type):\n",
    "    def __new__(cls, *args, **kwargs):\n",
    "        _class = super().__new__(cls, *args, **kwargs)\n",
    "        if _class.__name__ != 'Animal':\n",
    "            if not hasattr(_class, 'run') or not isfunction(getattr(_class, 'run')):\n",
    "                raise Exception('类{name}没有实现run方法'.format(name=_class.__name__))\n",
    "        return _class\n",
    "\n",
    "\n",
    "class Animal(metaclass=MyMeta):\n",
    "    def __init__(self, name):\n",
    "        self.name = name\n",
    "\n",
    "\n",
    "class Cat(Animal):\n",
    "    def __init__(self, name):\n",
    "        super().__init__(name)\n",
    "\n",
    "cat = Cat('加菲猫')"
   ]
  },
  {
   "cell_type": "code",
   "execution_count": 21,
   "metadata": {},
   "outputs": [
    {
     "name": "stdout",
     "output_type": "stream",
     "text": [
      "run\n"
     ]
    }
   ],
   "source": [
    "class Cat(Animal):\n",
    "    def __init__(self, name):\n",
    "        super().__init__(name)\n",
    "\n",
    "    def run(self):\n",
    "        print('run')\n",
    "\n",
    "cat = Cat('加菲猫')\n",
    "cat.run()"
   ]
  },
  {
   "cell_type": "code",
   "execution_count": 27,
   "metadata": {},
   "outputs": [
    {
     "name": "stdout",
     "output_type": "stream",
     "text": [
      "True\n"
     ]
    }
   ],
   "source": [
    "class Money:\n",
    "    def __init__(self, value):\n",
    "        self.value = value\n",
    "\n",
    "    def __gt__(self, other):\n",
    "        return self.value*self.rate > other.value*other.rate\n",
    "\n",
    "\n",
    "class Dollar(Money):\n",
    "    def __init__(self, value):\n",
    "        super().__init__(value)\n",
    "        self.rate = 0.1       # 与美元的汇率\n",
    "\n",
    "\n",
    "class Rmb(Money):\n",
    "    def __init__(self, value):\n",
    "        super().__init__(value)\n",
    "        self.rate = 1      # 1元人民币等于0.1431美元\n",
    "\n",
    "\n",
    "d = Dollar(95)\n",
    "r = Rmb(6.7)\n",
    "\n",
    "print(d > r)"
   ]
  },
  {
   "cell_type": "code",
   "execution_count": 4,
   "metadata": {},
   "outputs": [
    {
     "name": "stdout",
     "output_type": "stream",
     "text": [
      "{\n",
      "  \"args\": {}, \n",
      "  \"data\": \"\", \n",
      "  \"files\": {}, \n",
      "  \"form\": {\n",
      "    \"age\": \"14\", \n",
      "    \"name\": \"\\u5c0f\\u660e\"\n",
      "  }, \n",
      "  \"headers\": {\n",
      "    \"Accept\": \"*/*\", \n",
      "    \"Accept-Encoding\": \"gzip, deflate, br\", \n",
      "    \"Content-Length\": \"30\", \n",
      "    \"Content-Type\": \"application/x-www-form-urlencoded\", \n",
      "    \"Host\": \"httpbin.org\", \n",
      "    \"User-Agent\": \"python-requests/2.27.1\", \n",
      "    \"X-Amzn-Trace-Id\": \"Root=1-634b7127-5405f3041b7be60f4133b8ec\"\n",
      "  }, \n",
      "  \"json\": null, \n",
      "  \"origin\": \"43.206.52.141\", \n",
      "  \"url\": \"http://httpbin.org/post\"\n",
      "}\n",
      "\n"
     ]
    }
   ],
   "source": [
    "import requests\n",
    "\n",
    "payload = {'name': '小明', 'age': '14'}\n",
    "res = requests.post(\"http://httpbin.org/post\", data=payload)\n",
    "print(res.text)"
   ]
  },
  {
   "cell_type": "code",
   "execution_count": 6,
   "metadata": {},
   "outputs": [
    {
     "name": "stdout",
     "output_type": "stream",
     "text": [
      "{'Connection': 'close', 'Transfer-Encoding': 'chunked', 'Cache-Control': 'private, no-cache, no-store, proxy-revalidate, no-transform', 'Content-Encoding': 'gzip', 'Content-Type': 'text/html', 'Date': 'Sun, 16 Oct 2022 02:50:17 GMT', 'Last-Modified': 'Mon, 23 Jan 2017 13:27:36 GMT', 'Pragma': 'no-cache', 'Server': 'bfe/1.0.8.18', 'Set-Cookie': 'BDORZ=27315; max-age=86400; domain=.baidu.com; path=/'}\n"
     ]
    }
   ],
   "source": [
    "import requests\n",
    "\n",
    "res = requests.get('http://www.baidu.com')\n",
    "print(res.headers)"
   ]
  },
  {
   "cell_type": "code",
   "execution_count": 20,
   "metadata": {},
   "outputs": [],
   "source": [
    "mDict = {'q16m7': 1, 'q06m3': 0, 'q10m4': 0, 'q12m6': 1, 'q00m0': 1, 'q04m1': 0, 'q05m2': 0, 'q11m5': 0, 'q16m24': 1, 'q06m14': 0, 'q15m23': 0, 'q01m9': 1, 'q03m11': 1, 'q12m20': 1, 'q13m21': 1, 'q05m13': 0, 'q08m16': 1, 'q10m18': 1, 'q11m19': 1, 'q00m8': 1, 'q04m12': 1, 'q09m17': 0, 'q14m22': 0, 'q02m10': 1, 'q07m15': 1}"
   ]
  },
  {
   "cell_type": "code",
   "execution_count": 23,
   "metadata": {},
   "outputs": [
    {
     "data": {
      "text/plain": [
       "[1, 1, 1, 1, 1, 0, 1, 0, 0, 0, 0, 1, 1, 0, 0, 1, 0, 1, 1, 1, 1, 0, 0, 1, 1]"
      ]
     },
     "execution_count": 23,
     "metadata": {},
     "output_type": "execute_result"
    }
   ],
   "source": [
    "import IandM\n",
    "[mDict[j] for i in IandM.Q_ALL for j in mDict if j[1:3] == i[1:]]"
   ]
  },
  {
   "cell_type": "code",
   "execution_count": null,
   "metadata": {},
   "outputs": [],
   "source": [
    "11111010000110"
   ]
  },
  {
   "cell_type": "code",
   "execution_count": 25,
   "metadata": {},
   "outputs": [],
   "source": [
    "for _ in range(10):\n",
    "    with open('test.txt','a') as f:\n",
    "        f.write('1')"
   ]
  },
  {
   "cell_type": "code",
   "execution_count": 31,
   "metadata": {},
   "outputs": [],
   "source": [
    "a = [1,3,4]\n",
    "b=''.join([f'{i}' for i in a]+['\\n'])\n",
    "with open('test.txt','a') as f:\n",
    "    f.write(b)"
   ]
  },
  {
   "cell_type": "code",
   "execution_count": 3,
   "metadata": {},
   "outputs": [
    {
     "name": "stdout",
     "output_type": "stream",
     "text": [
      "[28.8955180893951] [21.2429923471094] [37.2671167881918] [27.3975041486083]\n"
     ]
    }
   ],
   "source": [
    "from sympy import *\n",
    "t = symbols('t')\n",
    "CZ1 = solve((1-exp(-t/21400))/4 + (1-exp(-t/21400))/2 - 0.00101201, t)\n",
    "H1 = solve((1-exp(-t/21400))/4 + (1-exp(-t/21400))/2 - 0.000744128, t)\n",
    "CZ2 = solve((1-exp(-t/27600))/4 + (1-exp(-t/27600))/2 - 0.00101201, t)\n",
    "H2 = solve((1-exp(-t/27600))/4 + (1-exp(-t/27600))/2 - 0.000744128, t)\n",
    "print(CZ1,H1,CZ2,H2)"
   ]
  },
  {
   "cell_type": "code",
   "execution_count": 4,
   "metadata": {},
   "outputs": [
    {
     "data": {
      "text/latex": [
       "$\\displaystyle 33.9854254766436$"
      ],
      "text/plain": [
       "33.9854254766436"
      ]
     },
     "execution_count": 4,
     "metadata": {},
     "output_type": "execute_result"
    }
   ],
   "source": [
    "nsolve((1-exp(-t/21400))/4 + (1-exp(-t/27600))/2 - 0.00101201, t, 1)"
   ]
  },
  {
   "cell_type": "code",
   "execution_count": 5,
   "metadata": {},
   "outputs": [
    {
     "data": {
      "text/latex": [
       "$\\displaystyle 24.9848481286125$"
      ],
      "text/plain": [
       "24.9848481286125"
      ]
     },
     "execution_count": 5,
     "metadata": {},
     "output_type": "execute_result"
    }
   ],
   "source": [
    "nsolve((1-exp(-t/21400))/4 + (1-exp(-t/27600))/2 - 0.000744128, t, 1)"
   ]
  },
  {
   "cell_type": "code",
   "execution_count": 6,
   "metadata": {},
   "outputs": [
    {
     "data": {
      "text/plain": [
       "16779.545454545456"
      ]
     },
     "execution_count": 6,
     "metadata": {},
     "output_type": "execute_result"
    }
   ],
   "source": [
    "1/(1/2/21400+1/27600)"
   ]
  },
  {
   "cell_type": "code",
   "execution_count": 7,
   "metadata": {},
   "outputs": [
    {
     "data": {
      "text/latex": [
       "$\\displaystyle 24.4139625294932$"
      ],
      "text/plain": [
       "24.4139625294932"
      ]
     },
     "execution_count": 7,
     "metadata": {},
     "output_type": "execute_result"
    }
   ],
   "source": [
    "nsolve((1-exp(-t/21400))/4 + (1-exp(-t/16779.545454545456))/2 - 0.00101201, t, 1)"
   ]
  },
  {
   "cell_type": "code",
   "execution_count": 9,
   "metadata": {},
   "outputs": [
    {
     "data": {
      "text/latex": [
       "$\\displaystyle 17.9482680362235$"
      ],
      "text/plain": [
       "17.9482680362235"
      ]
     },
     "execution_count": 9,
     "metadata": {},
     "output_type": "execute_result"
    }
   ],
   "source": [
    "nsolve((1-exp(-t/21400))/4 + (1-exp(-t/16779.545454545456))/2 - 0.000744128, t, 1)"
   ]
  },
  {
   "cell_type": "code",
   "execution_count": 11,
   "metadata": {},
   "outputs": [
    {
     "data": {
      "text/latex": [
       "$\\displaystyle 24.9907567383947$"
      ],
      "text/plain": [
       "24.9907567383947"
      ]
     },
     "execution_count": 11,
     "metadata": {},
     "output_type": "execute_result"
    }
   ],
   "source": [
    "nsolve((1-exp(-t/18600))/4 + (1-exp(-t/29400))/2 - 0.000760504, t, 1)"
   ]
  },
  {
   "cell_type": "code",
   "execution_count": 13,
   "metadata": {},
   "outputs": [
    {
     "data": {
      "text/latex": [
       "$\\displaystyle 33.9941160226406$"
      ],
      "text/plain": [
       "33.9941160226406"
      ]
     },
     "execution_count": 13,
     "metadata": {},
     "output_type": "execute_result"
    }
   ],
   "source": [
    "nsolve((1-exp(-t/18600))/4 + (1-exp(-t/29400))/2 - 0.00103429, t, 20)"
   ]
  },
  {
   "cell_type": "code",
   "execution_count": 9,
   "metadata": {},
   "outputs": [
    {
     "name": "stdout",
     "output_type": "stream",
     "text": [
      "c\n"
     ]
    }
   ],
   "source": [
    "class CLanguage:\n",
    "    def __init__(self,name) -> None:\n",
    "        self.name = name\n",
    "    def test(self):\n",
    "        print(self.name)\n",
    "CLanguage('c').test()\n"
   ]
  },
  {
   "cell_type": "code",
   "execution_count": null,
   "metadata": {},
   "outputs": [],
   "source": []
  }
 ],
 "metadata": {
  "kernelspec": {
   "display_name": "Python 3.9.12 ('base')",
   "language": "python",
   "name": "python3"
  },
  "language_info": {
   "codemirror_mode": {
    "name": "ipython",
    "version": 3
   },
   "file_extension": ".py",
   "mimetype": "text/x-python",
   "name": "python",
   "nbconvert_exporter": "python",
   "pygments_lexer": "ipython3",
   "version": "3.9.12"
  },
  "orig_nbformat": 4,
  "vscode": {
   "interpreter": {
    "hash": "6f5583cf1d9466b5c27e75c89cc6b383bed5736d6b16c51c8074d8690011a952"
   }
  }
 },
 "nbformat": 4,
 "nbformat_minor": 2
}
